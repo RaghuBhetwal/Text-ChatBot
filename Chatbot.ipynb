{
  "nbformat": 4,
  "nbformat_minor": 0,
  "metadata": {
    "colab": {
      "provenance": []
    },
    "kernelspec": {
      "name": "python3",
      "display_name": "Python 3"
    },
    "language_info": {
      "name": "python"
    },
    "accelerator": "GPU",
    "gpuClass": "standard"
  },
  "cells": [
    {
      "cell_type": "code",
      "execution_count": 1,
      "metadata": {
        "id": "kYLXMDNQFCFe"
      },
      "outputs": [],
      "source": [
        "import numpy as np\n",
        "import nltk\n",
        "import string\n",
        "import random"
      ]
    },
    {
      "cell_type": "markdown",
      "source": [
        "Importing and reading Corpus\n"
      ],
      "metadata": {
        "id": "Ij8Q70ZaGlKA"
      }
    },
    {
      "cell_type": "code",
      "source": [
        "f = open(\"chatbot.txt\", \"r\", errors = \"ignore\")\n",
        "raw_data = f.read()\n",
        "raw_data = raw_data.lower() #to lwercase\n",
        "nltk.download(\"punkt\")    #using punkt tokenizer\n",
        "nltk.download(\"wordnet\")    #Using wordnet dictionary\n",
        "\n",
        "sent_tokens = nltk.sent_tokenize(raw_data)    #converting doc to list of sentences\n",
        "word_tokens = nltk.word_tokenize(raw_data)    #doc to lst of word\n"
      ],
      "metadata": {
        "colab": {
          "base_uri": "https://localhost:8080/"
        },
        "id": "vFsFyAVcGdXy",
        "outputId": "bcd65a52-10f4-4cda-9c10-b57f656f17cc"
      },
      "execution_count": 2,
      "outputs": [
        {
          "output_type": "stream",
          "name": "stderr",
          "text": [
            "[nltk_data] Downloading package punkt to /root/nltk_data...\n",
            "[nltk_data]   Unzipping tokenizers/punkt.zip.\n",
            "[nltk_data] Downloading package wordnet to /root/nltk_data...\n"
          ]
        }
      ]
    },
    {
      "cell_type": "code",
      "source": [
        "sent_tokens"
      ],
      "metadata": {
        "id": "k9iWVAs2ITDH"
      },
      "execution_count": null,
      "outputs": []
    },
    {
      "cell_type": "code",
      "source": [
        "word_tokens[:10]"
      ],
      "metadata": {
        "colab": {
          "base_uri": "https://localhost:8080/"
        },
        "id": "YwOMJWvQIXwu",
        "outputId": "4754682c-a84d-4a47-bac5-0bbce892579a"
      },
      "execution_count": 7,
      "outputs": [
        {
          "output_type": "execute_result",
          "data": {
            "text/plain": [
              "['skip',\n",
              " 'to',\n",
              " 'main',\n",
              " 'content',\n",
              " 'click',\n",
              " 'here',\n",
              " 'to',\n",
              " 'return',\n",
              " 'to',\n",
              " 'amazon']"
            ]
          },
          "metadata": {},
          "execution_count": 7
        }
      ]
    },
    {
      "cell_type": "code",
      "source": [
        "## lemmatization\n",
        "##Text Preprocessing\n",
        "lemmer = nltk.stem.WordNetLemmatizer()\n",
        "def lemtokens(tokens):\n",
        "  return [lemmer.lemmatize(token) for token in tokens]\n",
        "\n",
        "remove_punctuation_dict = dict((ord(punct), None) for punct in string.punctuation)\n",
        "def LemNormalize(text):\n",
        "    return lemtokens(nltk.word_tokenize(text.lower().translate(remove_punctuation_dict)))\n"
      ],
      "metadata": {
        "id": "U99SiHaoIbvj"
      },
      "execution_count": 65,
      "outputs": []
    },
    {
      "cell_type": "markdown",
      "source": [
        "Define Greeting function"
      ],
      "metadata": {
        "id": "JgH0EN8BJ6dk"
      }
    },
    {
      "cell_type": "code",
      "source": [
        "Greet_input = (\"hello\", \"hi\", \"greetings\", \"sup\", \"whats up\", \"hey\")\n",
        "Greet_Responses = [\"hello\", \"hi there\", \"greetings\", \"sup\", \"hello, whats up)\", \"hey buddy, How can I help you?\"]"
      ],
      "metadata": {
        "id": "brCRCn3PJ5z2"
      },
      "execution_count": 67,
      "outputs": []
    },
    {
      "cell_type": "code",
      "source": [
        "def greet(sentence):\n",
        "  for word in sentence.split():\n",
        "    if word.lower() in Greet_input:\n",
        "      return random.choice(Greet_Responses)\n"
      ],
      "metadata": {
        "id": "_GEogUsBKYpp"
      },
      "execution_count": 68,
      "outputs": []
    },
    {
      "cell_type": "markdown",
      "source": [
        "Response Generation"
      ],
      "metadata": {
        "id": "85M0xv9mKst0"
      }
    },
    {
      "cell_type": "code",
      "source": [
        "from sklearn.feature_extraction.text import TfidfVectorizer\n",
        "from sklearn.metrics. pairwise import cosine_similarity"
      ],
      "metadata": {
        "id": "MAF1CY6vKrLc"
      },
      "execution_count": 69,
      "outputs": []
    },
    {
      "cell_type": "code",
      "source": [
        "def response(user_response):\n",
        "  robo1_response=''\n",
        "  TfidfVec = TfidfVectorizer(tokenizer=LemNormalize, stop_words='english')\n",
        "  tfidf = TfidfVec.fit_transform(sent_tokens)\n",
        "  vals = cosine_similarity (tfidf[-1], tfidf)\n",
        "  idx=vals.argsort()[0][-2]\n",
        "  flat = vals.flatten()\n",
        "  flat.sort()\n",
        "  req_tfidf = flat[-2]\n",
        "  if(req_tfidf==0):\n",
        "       robo1_response=robo1_response+\"I am sorry! I don't understand you\"\n",
        "       return robo1_response\n",
        "  else:\n",
        "        robo1_response = robo1_response+sent_tokens[idx] \n",
        "        return robo1_response"
      ],
      "metadata": {
        "id": "nouFWlsCL7UT"
      },
      "execution_count": 70,
      "outputs": []
    },
    {
      "cell_type": "code",
      "source": [
        "flag = True\n",
        "print(\"BOT : My name is CBOT. Lets have a conversation! Also, if you want to exit any time, just type Bye!\")\n",
        "while(flag == True):\n",
        "  user_response = input()\n",
        "  user_response = user_response.lower()\n",
        "  if user_response != \"bye\" :\n",
        "    if user_response ==\"thanks\" or user_response == \"thank you\":\n",
        "      flag = False\n",
        "      print(\"BOT: You are Welcome.......\")\n",
        "    else:\n",
        "      if (greet(user_response)!= None):\n",
        "        print(\"BOT: \" + greet(user_response))\n",
        "      else:\n",
        "         sent_tokens.append(user_response)\n",
        "         word_tokens = word_tokens + nltk.word_tokenize(user_response)\n",
        "         final_words = list(set(word_tokens))\n",
        "         print(\"BOT: \", end =\"\")\n",
        "         print(response(user_response))\n",
        "         sent_tokens.remove(user_response)\n",
        "  else:\n",
        "    flag = False\n",
        "    print(\"BOT: GoodBye, TakeCare\")\n",
        "\n",
        "\n",
        "\n"
      ],
      "metadata": {
        "id": "4CN56DE0MRlW"
      },
      "execution_count": null,
      "outputs": []
    }
  ]
}